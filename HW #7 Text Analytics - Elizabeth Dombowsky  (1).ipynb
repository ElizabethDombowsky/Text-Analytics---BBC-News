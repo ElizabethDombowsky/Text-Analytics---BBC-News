{
 "cells": [
  {
   "cell_type": "markdown",
   "id": "9eb4e3ef",
   "metadata": {},
   "source": [
    "# Text Analytics"
   ]
  },
  {
   "cell_type": "markdown",
   "id": "d4bc8365",
   "metadata": {},
   "source": [
    "## Introduction: \n",
    "The data set being used is data collected from BBC News Artciles. This includes the news article titles and the category or type of article that it was. This will be used to gather information from the titles"
   ]
  },
  {
   "cell_type": "code",
   "execution_count": 1,
   "id": "5a08f48b",
   "metadata": {},
   "outputs": [],
   "source": [
    "#import and load data set\n",
    "import pandas as pd\n",
    "import numpy as np\n",
    "import matplotlib.pyplot as plt\n",
    "import seaborn as sns\n",
    "\n",
    "from sklearn.datasets import fetch_20newsgroups\n",
    "\n",
    "import warnings\n",
    "warnings.filterwarnings(\"ignore\")\n",
    "\n",
    "%matplotlib inline\n",
    "sns.set() \n",
    "\n",
    "df = pd.read_csv(\"/Users/elizabethdombowsky/Desktop/MSDS 650 Analytics/week 7/bbc.csv\")"
   ]
  },
  {
   "cell_type": "code",
   "execution_count": 2,
   "id": "0fd5ccab",
   "metadata": {},
   "outputs": [
    {
     "data": {
      "text/html": [
       "<div>\n",
       "<style scoped>\n",
       "    .dataframe tbody tr th:only-of-type {\n",
       "        vertical-align: middle;\n",
       "    }\n",
       "\n",
       "    .dataframe tbody tr th {\n",
       "        vertical-align: top;\n",
       "    }\n",
       "\n",
       "    .dataframe thead th {\n",
       "        text-align: right;\n",
       "    }\n",
       "</style>\n",
       "<table border=\"1\" class=\"dataframe\">\n",
       "  <thead>\n",
       "    <tr style=\"text-align: right;\">\n",
       "      <th></th>\n",
       "      <th>id</th>\n",
       "      <th>news</th>\n",
       "      <th>type</th>\n",
       "    </tr>\n",
       "  </thead>\n",
       "  <tbody>\n",
       "    <tr>\n",
       "      <th>0</th>\n",
       "      <td>0</td>\n",
       "      <td>UK economy facing 'major risks'\\n \\n The UK ma...</td>\n",
       "      <td>business</td>\n",
       "    </tr>\n",
       "    <tr>\n",
       "      <th>1</th>\n",
       "      <td>1</td>\n",
       "      <td>Aids and climate top Davos agenda\\n \\n Climate...</td>\n",
       "      <td>business</td>\n",
       "    </tr>\n",
       "    <tr>\n",
       "      <th>2</th>\n",
       "      <td>2</td>\n",
       "      <td>Asian quake hits European shares\\n \\n Shares i...</td>\n",
       "      <td>business</td>\n",
       "    </tr>\n",
       "    <tr>\n",
       "      <th>3</th>\n",
       "      <td>3</td>\n",
       "      <td>India power shares jump on debut\\n \\n Shares i...</td>\n",
       "      <td>business</td>\n",
       "    </tr>\n",
       "    <tr>\n",
       "      <th>4</th>\n",
       "      <td>4</td>\n",
       "      <td>Lacroix label bought by US firm\\n \\n Luxury go...</td>\n",
       "      <td>business</td>\n",
       "    </tr>\n",
       "    <tr>\n",
       "      <th>...</th>\n",
       "      <td>...</td>\n",
       "      <td>...</td>\n",
       "      <td>...</td>\n",
       "    </tr>\n",
       "    <tr>\n",
       "      <th>2220</th>\n",
       "      <td>2220</td>\n",
       "      <td>Warning over Windows Word files\\n \\n Writing a...</td>\n",
       "      <td>tech</td>\n",
       "    </tr>\n",
       "    <tr>\n",
       "      <th>2221</th>\n",
       "      <td>2221</td>\n",
       "      <td>Fast lifts rise into record books\\n \\n Two hig...</td>\n",
       "      <td>tech</td>\n",
       "    </tr>\n",
       "    <tr>\n",
       "      <th>2222</th>\n",
       "      <td>2222</td>\n",
       "      <td>Nintendo adds media playing to DS\\n \\n Nintend...</td>\n",
       "      <td>tech</td>\n",
       "    </tr>\n",
       "    <tr>\n",
       "      <th>2223</th>\n",
       "      <td>2223</td>\n",
       "      <td>Fast moving phone viruses appear\\n \\n Security...</td>\n",
       "      <td>tech</td>\n",
       "    </tr>\n",
       "    <tr>\n",
       "      <th>2224</th>\n",
       "      <td>2224</td>\n",
       "      <td>Hacker threat to Apple's iTunes\\n \\n Users of ...</td>\n",
       "      <td>tech</td>\n",
       "    </tr>\n",
       "  </tbody>\n",
       "</table>\n",
       "<p>2225 rows × 3 columns</p>\n",
       "</div>"
      ],
      "text/plain": [
       "        id                                               news      type\n",
       "0        0  UK economy facing 'major risks'\\n \\n The UK ma...  business\n",
       "1        1  Aids and climate top Davos agenda\\n \\n Climate...  business\n",
       "2        2  Asian quake hits European shares\\n \\n Shares i...  business\n",
       "3        3  India power shares jump on debut\\n \\n Shares i...  business\n",
       "4        4  Lacroix label bought by US firm\\n \\n Luxury go...  business\n",
       "...    ...                                                ...       ...\n",
       "2220  2220  Warning over Windows Word files\\n \\n Writing a...      tech\n",
       "2221  2221  Fast lifts rise into record books\\n \\n Two hig...      tech\n",
       "2222  2222  Nintendo adds media playing to DS\\n \\n Nintend...      tech\n",
       "2223  2223  Fast moving phone viruses appear\\n \\n Security...      tech\n",
       "2224  2224  Hacker threat to Apple's iTunes\\n \\n Users of ...      tech\n",
       "\n",
       "[2225 rows x 3 columns]"
      ]
     },
     "execution_count": 2,
     "metadata": {},
     "output_type": "execute_result"
    }
   ],
   "source": [
    "df"
   ]
  },
  {
   "cell_type": "markdown",
   "id": "fd58721a",
   "metadata": {},
   "source": [
    "# Prepare Data for Analysis"
   ]
  },
  {
   "cell_type": "markdown",
   "id": "ca3b536a",
   "metadata": {},
   "source": [
    "To prepare for the analysis we will take away any punctuation or reoccuring words to make the analysis smoother and easier"
   ]
  },
  {
   "cell_type": "markdown",
   "id": "90a240e9",
   "metadata": {},
   "source": [
    "### First, Convert to lowercase"
   ]
  },
  {
   "cell_type": "code",
   "execution_count": 3,
   "id": "15843b3a",
   "metadata": {},
   "outputs": [
    {
     "data": {
      "text/html": [
       "<div>\n",
       "<style scoped>\n",
       "    .dataframe tbody tr th:only-of-type {\n",
       "        vertical-align: middle;\n",
       "    }\n",
       "\n",
       "    .dataframe tbody tr th {\n",
       "        vertical-align: top;\n",
       "    }\n",
       "\n",
       "    .dataframe thead th {\n",
       "        text-align: right;\n",
       "    }\n",
       "</style>\n",
       "<table border=\"1\" class=\"dataframe\">\n",
       "  <thead>\n",
       "    <tr style=\"text-align: right;\">\n",
       "      <th></th>\n",
       "      <th>id</th>\n",
       "      <th>news</th>\n",
       "      <th>type</th>\n",
       "      <th>clean</th>\n",
       "    </tr>\n",
       "  </thead>\n",
       "  <tbody>\n",
       "    <tr>\n",
       "      <th>0</th>\n",
       "      <td>0</td>\n",
       "      <td>UK economy facing 'major risks'\\n \\n The UK ma...</td>\n",
       "      <td>business</td>\n",
       "      <td>uk economy facing 'major risks' the uk manufac...</td>\n",
       "    </tr>\n",
       "    <tr>\n",
       "      <th>1</th>\n",
       "      <td>1</td>\n",
       "      <td>Aids and climate top Davos agenda\\n \\n Climate...</td>\n",
       "      <td>business</td>\n",
       "      <td>aids and climate top davos agenda climate chan...</td>\n",
       "    </tr>\n",
       "    <tr>\n",
       "      <th>2</th>\n",
       "      <td>2</td>\n",
       "      <td>Asian quake hits European shares\\n \\n Shares i...</td>\n",
       "      <td>business</td>\n",
       "      <td>asian quake hits european shares shares in eur...</td>\n",
       "    </tr>\n",
       "    <tr>\n",
       "      <th>3</th>\n",
       "      <td>3</td>\n",
       "      <td>India power shares jump on debut\\n \\n Shares i...</td>\n",
       "      <td>business</td>\n",
       "      <td>india power shares jump on debut shares in ind...</td>\n",
       "    </tr>\n",
       "    <tr>\n",
       "      <th>4</th>\n",
       "      <td>4</td>\n",
       "      <td>Lacroix label bought by US firm\\n \\n Luxury go...</td>\n",
       "      <td>business</td>\n",
       "      <td>lacroix label bought by us firm luxury goods g...</td>\n",
       "    </tr>\n",
       "    <tr>\n",
       "      <th>5</th>\n",
       "      <td>5</td>\n",
       "      <td>Insurance bosses plead guilty\\n \\n Another thr...</td>\n",
       "      <td>business</td>\n",
       "      <td>insurance bosses plead guilty another three us...</td>\n",
       "    </tr>\n",
       "    <tr>\n",
       "      <th>6</th>\n",
       "      <td>6</td>\n",
       "      <td>Turkey-Iran mobile deal 'at risk'\\n \\n Turkey'...</td>\n",
       "      <td>business</td>\n",
       "      <td>turkey-iran mobile deal 'at risk' turkey's inv...</td>\n",
       "    </tr>\n",
       "    <tr>\n",
       "      <th>7</th>\n",
       "      <td>7</td>\n",
       "      <td>Parmalat to return to stockmarket\\n \\n Parmala...</td>\n",
       "      <td>business</td>\n",
       "      <td>parmalat to return to stockmarket parmalat, th...</td>\n",
       "    </tr>\n",
       "    <tr>\n",
       "      <th>8</th>\n",
       "      <td>8</td>\n",
       "      <td>WorldCom director admits lying\\n \\n The former...</td>\n",
       "      <td>business</td>\n",
       "      <td>worldcom director admits lying the former chie...</td>\n",
       "    </tr>\n",
       "    <tr>\n",
       "      <th>9</th>\n",
       "      <td>9</td>\n",
       "      <td>Ebbers denies WorldCom fraud\\n \\n Former World...</td>\n",
       "      <td>business</td>\n",
       "      <td>ebbers denies worldcom fraud former worldcom c...</td>\n",
       "    </tr>\n",
       "  </tbody>\n",
       "</table>\n",
       "</div>"
      ],
      "text/plain": [
       "   id                                               news      type  \\\n",
       "0   0  UK economy facing 'major risks'\\n \\n The UK ma...  business   \n",
       "1   1  Aids and climate top Davos agenda\\n \\n Climate...  business   \n",
       "2   2  Asian quake hits European shares\\n \\n Shares i...  business   \n",
       "3   3  India power shares jump on debut\\n \\n Shares i...  business   \n",
       "4   4  Lacroix label bought by US firm\\n \\n Luxury go...  business   \n",
       "5   5  Insurance bosses plead guilty\\n \\n Another thr...  business   \n",
       "6   6  Turkey-Iran mobile deal 'at risk'\\n \\n Turkey'...  business   \n",
       "7   7  Parmalat to return to stockmarket\\n \\n Parmala...  business   \n",
       "8   8  WorldCom director admits lying\\n \\n The former...  business   \n",
       "9   9  Ebbers denies WorldCom fraud\\n \\n Former World...  business   \n",
       "\n",
       "                                               clean  \n",
       "0  uk economy facing 'major risks' the uk manufac...  \n",
       "1  aids and climate top davos agenda climate chan...  \n",
       "2  asian quake hits european shares shares in eur...  \n",
       "3  india power shares jump on debut shares in ind...  \n",
       "4  lacroix label bought by us firm luxury goods g...  \n",
       "5  insurance bosses plead guilty another three us...  \n",
       "6  turkey-iran mobile deal 'at risk' turkey's inv...  \n",
       "7  parmalat to return to stockmarket parmalat, th...  \n",
       "8  worldcom director admits lying the former chie...  \n",
       "9  ebbers denies worldcom fraud former worldcom c...  "
      ]
     },
     "execution_count": 3,
     "metadata": {},
     "output_type": "execute_result"
    }
   ],
   "source": [
    "df['clean'] = df.news.apply(lambda x: \" \".join(x.lower() for x in x.split()))\n",
    "df.head(10)"
   ]
  },
  {
   "cell_type": "markdown",
   "id": "cf2a7cc1",
   "metadata": {},
   "source": [
    "# Removing Web Addresses"
   ]
  },
  {
   "cell_type": "markdown",
   "id": "35868896",
   "metadata": {},
   "source": [
    "#### Removing web addresses is important to do before removing punctuation because it may not be as reliable at removing these later. For example, .edu will look like edu which could come up as education or .gov would be gov. "
   ]
  },
  {
   "cell_type": "code",
   "execution_count": 4,
   "id": "66827912",
   "metadata": {},
   "outputs": [
    {
     "data": {
      "text/html": [
       "<div>\n",
       "<style scoped>\n",
       "    .dataframe tbody tr th:only-of-type {\n",
       "        vertical-align: middle;\n",
       "    }\n",
       "\n",
       "    .dataframe tbody tr th {\n",
       "        vertical-align: top;\n",
       "    }\n",
       "\n",
       "    .dataframe thead th {\n",
       "        text-align: right;\n",
       "    }\n",
       "</style>\n",
       "<table border=\"1\" class=\"dataframe\">\n",
       "  <thead>\n",
       "    <tr style=\"text-align: right;\">\n",
       "      <th></th>\n",
       "      <th>id</th>\n",
       "      <th>news</th>\n",
       "      <th>type</th>\n",
       "      <th>clean</th>\n",
       "    </tr>\n",
       "  </thead>\n",
       "  <tbody>\n",
       "    <tr>\n",
       "      <th>0</th>\n",
       "      <td>0</td>\n",
       "      <td>UK economy facing 'major risks'\\n \\n The UK ma...</td>\n",
       "      <td>business</td>\n",
       "      <td>uk economy facing 'major risks' the uk manufac...</td>\n",
       "    </tr>\n",
       "    <tr>\n",
       "      <th>1</th>\n",
       "      <td>1</td>\n",
       "      <td>Aids and climate top Davos agenda\\n \\n Climate...</td>\n",
       "      <td>business</td>\n",
       "      <td>aids and climate top davos agenda climate chan...</td>\n",
       "    </tr>\n",
       "    <tr>\n",
       "      <th>2</th>\n",
       "      <td>2</td>\n",
       "      <td>Asian quake hits European shares\\n \\n Shares i...</td>\n",
       "      <td>business</td>\n",
       "      <td>asian quake hits european shares shares in eur...</td>\n",
       "    </tr>\n",
       "    <tr>\n",
       "      <th>3</th>\n",
       "      <td>3</td>\n",
       "      <td>India power shares jump on debut\\n \\n Shares i...</td>\n",
       "      <td>business</td>\n",
       "      <td>india power shares jump on debut shares in ind...</td>\n",
       "    </tr>\n",
       "    <tr>\n",
       "      <th>4</th>\n",
       "      <td>4</td>\n",
       "      <td>Lacroix label bought by US firm\\n \\n Luxury go...</td>\n",
       "      <td>business</td>\n",
       "      <td>lacroix label bought by us firm luxury goods g...</td>\n",
       "    </tr>\n",
       "    <tr>\n",
       "      <th>5</th>\n",
       "      <td>5</td>\n",
       "      <td>Insurance bosses plead guilty\\n \\n Another thr...</td>\n",
       "      <td>business</td>\n",
       "      <td>insurance bosses plead guilty another three us...</td>\n",
       "    </tr>\n",
       "    <tr>\n",
       "      <th>6</th>\n",
       "      <td>6</td>\n",
       "      <td>Turkey-Iran mobile deal 'at risk'\\n \\n Turkey'...</td>\n",
       "      <td>business</td>\n",
       "      <td>turkey-iran mobile deal 'at risk' turkey's inv...</td>\n",
       "    </tr>\n",
       "    <tr>\n",
       "      <th>7</th>\n",
       "      <td>7</td>\n",
       "      <td>Parmalat to return to stockmarket\\n \\n Parmala...</td>\n",
       "      <td>business</td>\n",
       "      <td>parmalat to return to stockmarket parmalat, th...</td>\n",
       "    </tr>\n",
       "    <tr>\n",
       "      <th>8</th>\n",
       "      <td>8</td>\n",
       "      <td>WorldCom director admits lying\\n \\n The former...</td>\n",
       "      <td>business</td>\n",
       "      <td>director admits lying the former chief financ...</td>\n",
       "    </tr>\n",
       "    <tr>\n",
       "      <th>9</th>\n",
       "      <td>9</td>\n",
       "      <td>Ebbers denies WorldCom fraud\\n \\n Former World...</td>\n",
       "      <td>business</td>\n",
       "      <td>ebbers denies  fraud former  chief bernie ebbe...</td>\n",
       "    </tr>\n",
       "  </tbody>\n",
       "</table>\n",
       "</div>"
      ],
      "text/plain": [
       "   id                                               news      type  \\\n",
       "0   0  UK economy facing 'major risks'\\n \\n The UK ma...  business   \n",
       "1   1  Aids and climate top Davos agenda\\n \\n Climate...  business   \n",
       "2   2  Asian quake hits European shares\\n \\n Shares i...  business   \n",
       "3   3  India power shares jump on debut\\n \\n Shares i...  business   \n",
       "4   4  Lacroix label bought by US firm\\n \\n Luxury go...  business   \n",
       "5   5  Insurance bosses plead guilty\\n \\n Another thr...  business   \n",
       "6   6  Turkey-Iran mobile deal 'at risk'\\n \\n Turkey'...  business   \n",
       "7   7  Parmalat to return to stockmarket\\n \\n Parmala...  business   \n",
       "8   8  WorldCom director admits lying\\n \\n The former...  business   \n",
       "9   9  Ebbers denies WorldCom fraud\\n \\n Former World...  business   \n",
       "\n",
       "                                               clean  \n",
       "0  uk economy facing 'major risks' the uk manufac...  \n",
       "1  aids and climate top davos agenda climate chan...  \n",
       "2  asian quake hits european shares shares in eur...  \n",
       "3  india power shares jump on debut shares in ind...  \n",
       "4  lacroix label bought by us firm luxury goods g...  \n",
       "5  insurance bosses plead guilty another three us...  \n",
       "6  turkey-iran mobile deal 'at risk' turkey's inv...  \n",
       "7  parmalat to return to stockmarket parmalat, th...  \n",
       "8   director admits lying the former chief financ...  \n",
       "9  ebbers denies  fraud former  chief bernie ebbe...  "
      ]
     },
     "execution_count": 4,
     "metadata": {},
     "output_type": "execute_result"
    }
   ],
   "source": [
    "df['clean'] = df.clean.str.replace('\\S+@\\S+','') \n",
    "df['clean'] = df.clean.str.replace('http\\S+','') \n",
    "df['clean'] = df.clean.str.replace('\\S+.com','') \n",
    "df['clean'] = df.clean.str.replace('\\S+.edu','') \n",
    "df.head(10)"
   ]
  },
  {
   "cell_type": "markdown",
   "id": "87c0e737",
   "metadata": {},
   "source": [
    "## Remove Punctuation"
   ]
  },
  {
   "cell_type": "markdown",
   "id": "4c706b23",
   "metadata": {},
   "source": [
    "#### Now remove punctuation from data set since email addresses have been deleted "
   ]
  },
  {
   "cell_type": "code",
   "execution_count": 5,
   "id": "e7ead0ba",
   "metadata": {},
   "outputs": [
    {
     "data": {
      "text/html": [
       "<div>\n",
       "<style scoped>\n",
       "    .dataframe tbody tr th:only-of-type {\n",
       "        vertical-align: middle;\n",
       "    }\n",
       "\n",
       "    .dataframe tbody tr th {\n",
       "        vertical-align: top;\n",
       "    }\n",
       "\n",
       "    .dataframe thead th {\n",
       "        text-align: right;\n",
       "    }\n",
       "</style>\n",
       "<table border=\"1\" class=\"dataframe\">\n",
       "  <thead>\n",
       "    <tr style=\"text-align: right;\">\n",
       "      <th></th>\n",
       "      <th>id</th>\n",
       "      <th>news</th>\n",
       "      <th>type</th>\n",
       "      <th>clean</th>\n",
       "    </tr>\n",
       "  </thead>\n",
       "  <tbody>\n",
       "    <tr>\n",
       "      <th>0</th>\n",
       "      <td>0</td>\n",
       "      <td>UK economy facing 'major risks'\\n \\n The UK ma...</td>\n",
       "      <td>business</td>\n",
       "      <td>uk economy facing major risks the uk manufactu...</td>\n",
       "    </tr>\n",
       "    <tr>\n",
       "      <th>1</th>\n",
       "      <td>1</td>\n",
       "      <td>Aids and climate top Davos agenda\\n \\n Climate...</td>\n",
       "      <td>business</td>\n",
       "      <td>aids and climate top davos agenda climate chan...</td>\n",
       "    </tr>\n",
       "    <tr>\n",
       "      <th>2</th>\n",
       "      <td>2</td>\n",
       "      <td>Asian quake hits European shares\\n \\n Shares i...</td>\n",
       "      <td>business</td>\n",
       "      <td>asian quake hits european shares shares in eur...</td>\n",
       "    </tr>\n",
       "    <tr>\n",
       "      <th>3</th>\n",
       "      <td>3</td>\n",
       "      <td>India power shares jump on debut\\n \\n Shares i...</td>\n",
       "      <td>business</td>\n",
       "      <td>india power shares jump on debut shares in ind...</td>\n",
       "    </tr>\n",
       "    <tr>\n",
       "      <th>4</th>\n",
       "      <td>4</td>\n",
       "      <td>Lacroix label bought by US firm\\n \\n Luxury go...</td>\n",
       "      <td>business</td>\n",
       "      <td>lacroix label bought by us firm luxury goods g...</td>\n",
       "    </tr>\n",
       "    <tr>\n",
       "      <th>5</th>\n",
       "      <td>5</td>\n",
       "      <td>Insurance bosses plead guilty\\n \\n Another thr...</td>\n",
       "      <td>business</td>\n",
       "      <td>insurance bosses plead guilty another three us...</td>\n",
       "    </tr>\n",
       "    <tr>\n",
       "      <th>6</th>\n",
       "      <td>6</td>\n",
       "      <td>Turkey-Iran mobile deal 'at risk'\\n \\n Turkey'...</td>\n",
       "      <td>business</td>\n",
       "      <td>turkeyiran mobile deal at risk turkeys investm...</td>\n",
       "    </tr>\n",
       "    <tr>\n",
       "      <th>7</th>\n",
       "      <td>7</td>\n",
       "      <td>Parmalat to return to stockmarket\\n \\n Parmala...</td>\n",
       "      <td>business</td>\n",
       "      <td>parmalat to return to stockmarket parmalat the...</td>\n",
       "    </tr>\n",
       "    <tr>\n",
       "      <th>8</th>\n",
       "      <td>8</td>\n",
       "      <td>WorldCom director admits lying\\n \\n The former...</td>\n",
       "      <td>business</td>\n",
       "      <td>director admits lying the former chief financ...</td>\n",
       "    </tr>\n",
       "    <tr>\n",
       "      <th>9</th>\n",
       "      <td>9</td>\n",
       "      <td>Ebbers denies WorldCom fraud\\n \\n Former World...</td>\n",
       "      <td>business</td>\n",
       "      <td>ebbers denies  fraud former  chief bernie ebbe...</td>\n",
       "    </tr>\n",
       "  </tbody>\n",
       "</table>\n",
       "</div>"
      ],
      "text/plain": [
       "   id                                               news      type  \\\n",
       "0   0  UK economy facing 'major risks'\\n \\n The UK ma...  business   \n",
       "1   1  Aids and climate top Davos agenda\\n \\n Climate...  business   \n",
       "2   2  Asian quake hits European shares\\n \\n Shares i...  business   \n",
       "3   3  India power shares jump on debut\\n \\n Shares i...  business   \n",
       "4   4  Lacroix label bought by US firm\\n \\n Luxury go...  business   \n",
       "5   5  Insurance bosses plead guilty\\n \\n Another thr...  business   \n",
       "6   6  Turkey-Iran mobile deal 'at risk'\\n \\n Turkey'...  business   \n",
       "7   7  Parmalat to return to stockmarket\\n \\n Parmala...  business   \n",
       "8   8  WorldCom director admits lying\\n \\n The former...  business   \n",
       "9   9  Ebbers denies WorldCom fraud\\n \\n Former World...  business   \n",
       "\n",
       "                                               clean  \n",
       "0  uk economy facing major risks the uk manufactu...  \n",
       "1  aids and climate top davos agenda climate chan...  \n",
       "2  asian quake hits european shares shares in eur...  \n",
       "3  india power shares jump on debut shares in ind...  \n",
       "4  lacroix label bought by us firm luxury goods g...  \n",
       "5  insurance bosses plead guilty another three us...  \n",
       "6  turkeyiran mobile deal at risk turkeys investm...  \n",
       "7  parmalat to return to stockmarket parmalat the...  \n",
       "8   director admits lying the former chief financ...  \n",
       "9  ebbers denies  fraud former  chief bernie ebbe...  "
      ]
     },
     "execution_count": 5,
     "metadata": {},
     "output_type": "execute_result"
    }
   ],
   "source": [
    "df['clean'] = df.clean.str.replace('[^\\w\\s]','')\n",
    "df.head(10)"
   ]
  },
  {
   "cell_type": "markdown",
   "id": "6a656f75",
   "metadata": {},
   "source": [
    "## Removing Digits"
   ]
  },
  {
   "cell_type": "markdown",
   "id": "3efa23d2",
   "metadata": {},
   "source": [
    "#### Remove digits and things like /n for new line "
   ]
  },
  {
   "cell_type": "code",
   "execution_count": 6,
   "id": "d96ca377",
   "metadata": {},
   "outputs": [
    {
     "data": {
      "text/html": [
       "<div>\n",
       "<style scoped>\n",
       "    .dataframe tbody tr th:only-of-type {\n",
       "        vertical-align: middle;\n",
       "    }\n",
       "\n",
       "    .dataframe tbody tr th {\n",
       "        vertical-align: top;\n",
       "    }\n",
       "\n",
       "    .dataframe thead th {\n",
       "        text-align: right;\n",
       "    }\n",
       "</style>\n",
       "<table border=\"1\" class=\"dataframe\">\n",
       "  <thead>\n",
       "    <tr style=\"text-align: right;\">\n",
       "      <th></th>\n",
       "      <th>id</th>\n",
       "      <th>news</th>\n",
       "      <th>type</th>\n",
       "      <th>clean</th>\n",
       "      <th>text</th>\n",
       "    </tr>\n",
       "  </thead>\n",
       "  <tbody>\n",
       "    <tr>\n",
       "      <th>0</th>\n",
       "      <td>0</td>\n",
       "      <td>UK economy facing 'major risks'\\n \\n The UK ma...</td>\n",
       "      <td>business</td>\n",
       "      <td>uk economy facing major risks the uk manufactu...</td>\n",
       "      <td>uk economy facing major risks the uk manufactu...</td>\n",
       "    </tr>\n",
       "    <tr>\n",
       "      <th>1</th>\n",
       "      <td>1</td>\n",
       "      <td>Aids and climate top Davos agenda\\n \\n Climate...</td>\n",
       "      <td>business</td>\n",
       "      <td>aids and climate top davos agenda climate chan...</td>\n",
       "      <td>aids and climate top davos agenda climate chan...</td>\n",
       "    </tr>\n",
       "    <tr>\n",
       "      <th>2</th>\n",
       "      <td>2</td>\n",
       "      <td>Asian quake hits European shares\\n \\n Shares i...</td>\n",
       "      <td>business</td>\n",
       "      <td>asian quake hits european shares shares in eur...</td>\n",
       "      <td>asian quake hits european shares shares in eur...</td>\n",
       "    </tr>\n",
       "    <tr>\n",
       "      <th>3</th>\n",
       "      <td>3</td>\n",
       "      <td>India power shares jump on debut\\n \\n Shares i...</td>\n",
       "      <td>business</td>\n",
       "      <td>india power shares jump on debut shares in ind...</td>\n",
       "      <td>india power shares jump on debut shares in ind...</td>\n",
       "    </tr>\n",
       "    <tr>\n",
       "      <th>4</th>\n",
       "      <td>4</td>\n",
       "      <td>Lacroix label bought by US firm\\n \\n Luxury go...</td>\n",
       "      <td>business</td>\n",
       "      <td>lacroix label bought by us firm luxury goods g...</td>\n",
       "      <td>lacroix label bought by us firm luxury goods g...</td>\n",
       "    </tr>\n",
       "    <tr>\n",
       "      <th>5</th>\n",
       "      <td>5</td>\n",
       "      <td>Insurance bosses plead guilty\\n \\n Another thr...</td>\n",
       "      <td>business</td>\n",
       "      <td>insurance bosses plead guilty another three us...</td>\n",
       "      <td>insurance bosses plead guilty another three us...</td>\n",
       "    </tr>\n",
       "    <tr>\n",
       "      <th>6</th>\n",
       "      <td>6</td>\n",
       "      <td>Turkey-Iran mobile deal 'at risk'\\n \\n Turkey'...</td>\n",
       "      <td>business</td>\n",
       "      <td>turkeyiran mobile deal at risk turkeys investm...</td>\n",
       "      <td>turkeyiran mobile deal at risk turkeys investm...</td>\n",
       "    </tr>\n",
       "    <tr>\n",
       "      <th>7</th>\n",
       "      <td>7</td>\n",
       "      <td>Parmalat to return to stockmarket\\n \\n Parmala...</td>\n",
       "      <td>business</td>\n",
       "      <td>parmalat to return to stockmarket parmalat the...</td>\n",
       "      <td>parmalat to return to stockmarket parmalat the...</td>\n",
       "    </tr>\n",
       "    <tr>\n",
       "      <th>8</th>\n",
       "      <td>8</td>\n",
       "      <td>WorldCom director admits lying\\n \\n The former...</td>\n",
       "      <td>business</td>\n",
       "      <td>director admits lying the former chief financ...</td>\n",
       "      <td>director admits lying the former chief financ...</td>\n",
       "    </tr>\n",
       "    <tr>\n",
       "      <th>9</th>\n",
       "      <td>9</td>\n",
       "      <td>Ebbers denies WorldCom fraud\\n \\n Former World...</td>\n",
       "      <td>business</td>\n",
       "      <td>ebbers denies  fraud former  chief bernie ebbe...</td>\n",
       "      <td>ebbers denies  fraud former  chief bernie ebbe...</td>\n",
       "    </tr>\n",
       "  </tbody>\n",
       "</table>\n",
       "</div>"
      ],
      "text/plain": [
       "   id                                               news      type  \\\n",
       "0   0  UK economy facing 'major risks'\\n \\n The UK ma...  business   \n",
       "1   1  Aids and climate top Davos agenda\\n \\n Climate...  business   \n",
       "2   2  Asian quake hits European shares\\n \\n Shares i...  business   \n",
       "3   3  India power shares jump on debut\\n \\n Shares i...  business   \n",
       "4   4  Lacroix label bought by US firm\\n \\n Luxury go...  business   \n",
       "5   5  Insurance bosses plead guilty\\n \\n Another thr...  business   \n",
       "6   6  Turkey-Iran mobile deal 'at risk'\\n \\n Turkey'...  business   \n",
       "7   7  Parmalat to return to stockmarket\\n \\n Parmala...  business   \n",
       "8   8  WorldCom director admits lying\\n \\n The former...  business   \n",
       "9   9  Ebbers denies WorldCom fraud\\n \\n Former World...  business   \n",
       "\n",
       "                                               clean  \\\n",
       "0  uk economy facing major risks the uk manufactu...   \n",
       "1  aids and climate top davos agenda climate chan...   \n",
       "2  asian quake hits european shares shares in eur...   \n",
       "3  india power shares jump on debut shares in ind...   \n",
       "4  lacroix label bought by us firm luxury goods g...   \n",
       "5  insurance bosses plead guilty another three us...   \n",
       "6  turkeyiran mobile deal at risk turkeys investm...   \n",
       "7  parmalat to return to stockmarket parmalat the...   \n",
       "8   director admits lying the former chief financ...   \n",
       "9  ebbers denies  fraud former  chief bernie ebbe...   \n",
       "\n",
       "                                                text  \n",
       "0  uk economy facing major risks the uk manufactu...  \n",
       "1  aids and climate top davos agenda climate chan...  \n",
       "2  asian quake hits european shares shares in eur...  \n",
       "3  india power shares jump on debut shares in ind...  \n",
       "4  lacroix label bought by us firm luxury goods g...  \n",
       "5  insurance bosses plead guilty another three us...  \n",
       "6  turkeyiran mobile deal at risk turkeys investm...  \n",
       "7  parmalat to return to stockmarket parmalat the...  \n",
       "8   director admits lying the former chief financ...  \n",
       "9  ebbers denies  fraud former  chief bernie ebbe...  "
      ]
     },
     "execution_count": 6,
     "metadata": {},
     "output_type": "execute_result"
    }
   ],
   "source": [
    "df['text'] = df.clean.str.replace('\\d+','')\n",
    "df.head(10)"
   ]
  },
  {
   "cell_type": "markdown",
   "id": "5365425c",
   "metadata": {},
   "source": [
    "## Remove Stop Words"
   ]
  },
  {
   "cell_type": "markdown",
   "id": "9f208334",
   "metadata": {},
   "source": [
    "### Remove commonly occuring words from a predefined library "
   ]
  },
  {
   "cell_type": "code",
   "execution_count": 7,
   "id": "b0695349",
   "metadata": {},
   "outputs": [
    {
     "data": {
      "text/html": [
       "<div>\n",
       "<style scoped>\n",
       "    .dataframe tbody tr th:only-of-type {\n",
       "        vertical-align: middle;\n",
       "    }\n",
       "\n",
       "    .dataframe tbody tr th {\n",
       "        vertical-align: top;\n",
       "    }\n",
       "\n",
       "    .dataframe thead th {\n",
       "        text-align: right;\n",
       "    }\n",
       "</style>\n",
       "<table border=\"1\" class=\"dataframe\">\n",
       "  <thead>\n",
       "    <tr style=\"text-align: right;\">\n",
       "      <th></th>\n",
       "      <th>id</th>\n",
       "      <th>news</th>\n",
       "      <th>type</th>\n",
       "      <th>clean</th>\n",
       "      <th>text</th>\n",
       "    </tr>\n",
       "  </thead>\n",
       "  <tbody>\n",
       "    <tr>\n",
       "      <th>0</th>\n",
       "      <td>0</td>\n",
       "      <td>UK economy facing 'major risks'\\n \\n The UK ma...</td>\n",
       "      <td>business</td>\n",
       "      <td>uk economy facing major risks uk manufacturing...</td>\n",
       "      <td>uk economy facing major risks the uk manufactu...</td>\n",
       "    </tr>\n",
       "    <tr>\n",
       "      <th>1</th>\n",
       "      <td>1</td>\n",
       "      <td>Aids and climate top Davos agenda\\n \\n Climate...</td>\n",
       "      <td>business</td>\n",
       "      <td>aids climate top davos agenda climate change f...</td>\n",
       "      <td>aids and climate top davos agenda climate chan...</td>\n",
       "    </tr>\n",
       "    <tr>\n",
       "      <th>2</th>\n",
       "      <td>2</td>\n",
       "      <td>Asian quake hits European shares\\n \\n Shares i...</td>\n",
       "      <td>business</td>\n",
       "      <td>asian quake hits european shares shares europe...</td>\n",
       "      <td>asian quake hits european shares shares in eur...</td>\n",
       "    </tr>\n",
       "    <tr>\n",
       "      <th>3</th>\n",
       "      <td>3</td>\n",
       "      <td>India power shares jump on debut\\n \\n Shares i...</td>\n",
       "      <td>business</td>\n",
       "      <td>india power shares jump debut shares indias la...</td>\n",
       "      <td>india power shares jump on debut shares in ind...</td>\n",
       "    </tr>\n",
       "    <tr>\n",
       "      <th>4</th>\n",
       "      <td>4</td>\n",
       "      <td>Lacroix label bought by US firm\\n \\n Luxury go...</td>\n",
       "      <td>business</td>\n",
       "      <td>lacroix label bought us firm luxury goods grou...</td>\n",
       "      <td>lacroix label bought by us firm luxury goods g...</td>\n",
       "    </tr>\n",
       "    <tr>\n",
       "      <th>5</th>\n",
       "      <td>5</td>\n",
       "      <td>Insurance bosses plead guilty\\n \\n Another thr...</td>\n",
       "      <td>business</td>\n",
       "      <td>insurance bosses plead guilty another three us...</td>\n",
       "      <td>insurance bosses plead guilty another three us...</td>\n",
       "    </tr>\n",
       "    <tr>\n",
       "      <th>6</th>\n",
       "      <td>6</td>\n",
       "      <td>Turkey-Iran mobile deal 'at risk'\\n \\n Turkey'...</td>\n",
       "      <td>business</td>\n",
       "      <td>turkeyiran mobile deal risk turkeys investment...</td>\n",
       "      <td>turkeyiran mobile deal at risk turkeys investm...</td>\n",
       "    </tr>\n",
       "    <tr>\n",
       "      <th>7</th>\n",
       "      <td>7</td>\n",
       "      <td>Parmalat to return to stockmarket\\n \\n Parmala...</td>\n",
       "      <td>business</td>\n",
       "      <td>parmalat return stockmarket parmalat italian p...</td>\n",
       "      <td>parmalat to return to stockmarket parmalat the...</td>\n",
       "    </tr>\n",
       "    <tr>\n",
       "      <th>8</th>\n",
       "      <td>8</td>\n",
       "      <td>WorldCom director admits lying\\n \\n The former...</td>\n",
       "      <td>business</td>\n",
       "      <td>director admits lying former chief financial o...</td>\n",
       "      <td>director admits lying the former chief financ...</td>\n",
       "    </tr>\n",
       "    <tr>\n",
       "      <th>9</th>\n",
       "      <td>9</td>\n",
       "      <td>Ebbers denies WorldCom fraud\\n \\n Former World...</td>\n",
       "      <td>business</td>\n",
       "      <td>ebbers denies fraud former chief bernie ebbers...</td>\n",
       "      <td>ebbers denies  fraud former  chief bernie ebbe...</td>\n",
       "    </tr>\n",
       "  </tbody>\n",
       "</table>\n",
       "</div>"
      ],
      "text/plain": [
       "   id                                               news      type  \\\n",
       "0   0  UK economy facing 'major risks'\\n \\n The UK ma...  business   \n",
       "1   1  Aids and climate top Davos agenda\\n \\n Climate...  business   \n",
       "2   2  Asian quake hits European shares\\n \\n Shares i...  business   \n",
       "3   3  India power shares jump on debut\\n \\n Shares i...  business   \n",
       "4   4  Lacroix label bought by US firm\\n \\n Luxury go...  business   \n",
       "5   5  Insurance bosses plead guilty\\n \\n Another thr...  business   \n",
       "6   6  Turkey-Iran mobile deal 'at risk'\\n \\n Turkey'...  business   \n",
       "7   7  Parmalat to return to stockmarket\\n \\n Parmala...  business   \n",
       "8   8  WorldCom director admits lying\\n \\n The former...  business   \n",
       "9   9  Ebbers denies WorldCom fraud\\n \\n Former World...  business   \n",
       "\n",
       "                                               clean  \\\n",
       "0  uk economy facing major risks uk manufacturing...   \n",
       "1  aids climate top davos agenda climate change f...   \n",
       "2  asian quake hits european shares shares europe...   \n",
       "3  india power shares jump debut shares indias la...   \n",
       "4  lacroix label bought us firm luxury goods grou...   \n",
       "5  insurance bosses plead guilty another three us...   \n",
       "6  turkeyiran mobile deal risk turkeys investment...   \n",
       "7  parmalat return stockmarket parmalat italian p...   \n",
       "8  director admits lying former chief financial o...   \n",
       "9  ebbers denies fraud former chief bernie ebbers...   \n",
       "\n",
       "                                                text  \n",
       "0  uk economy facing major risks the uk manufactu...  \n",
       "1  aids and climate top davos agenda climate chan...  \n",
       "2  asian quake hits european shares shares in eur...  \n",
       "3  india power shares jump on debut shares in ind...  \n",
       "4  lacroix label bought by us firm luxury goods g...  \n",
       "5  insurance bosses plead guilty another three us...  \n",
       "6  turkeyiran mobile deal at risk turkeys investm...  \n",
       "7  parmalat to return to stockmarket parmalat the...  \n",
       "8   director admits lying the former chief financ...  \n",
       "9  ebbers denies  fraud former  chief bernie ebbe...  "
      ]
     },
     "execution_count": 7,
     "metadata": {},
     "output_type": "execute_result"
    }
   ],
   "source": [
    "from nltk.corpus import stopwords, words\n",
    "stop = stopwords.words('english')\n",
    "\n",
    "df['clean'] = df.clean.apply(lambda x: \" \".join(w for w in x.split() if w not in stop))\n",
    "df.head(10)"
   ]
  },
  {
   "cell_type": "markdown",
   "id": "3d8aeb70",
   "metadata": {},
   "source": [
    "## Word Tokenization "
   ]
  },
  {
   "cell_type": "markdown",
   "id": "f5001c6e",
   "metadata": {},
   "source": [
    "### Divide into a sequence "
   ]
  },
  {
   "cell_type": "code",
   "execution_count": 8,
   "id": "b32210e6",
   "metadata": {},
   "outputs": [
    {
     "data": {
      "text/plain": [
       "['uk',\n",
       " 'economy',\n",
       " 'facing',\n",
       " 'major',\n",
       " 'risks',\n",
       " 'uk',\n",
       " 'manufacturing',\n",
       " 'sector',\n",
       " 'continue',\n",
       " 'face',\n",
       " 'serious',\n",
       " 'challenges',\n",
       " 'next',\n",
       " 'two',\n",
       " 'years',\n",
       " 'british',\n",
       " 'chamber',\n",
       " 'merce',\n",
       " 'bcc',\n",
       " 'said']"
      ]
     },
     "execution_count": 8,
     "metadata": {},
     "output_type": "execute_result"
    }
   ],
   "source": [
    "tokens = ' '.join(df.clean).split()\n",
    "tokens[:20]"
   ]
  },
  {
   "cell_type": "markdown",
   "id": "98a2607b",
   "metadata": {},
   "source": [
    "### Look at the least frequent words and most frequent words before lemm3nization and then after lemmenization "
   ]
  },
  {
   "cell_type": "code",
   "execution_count": 9,
   "id": "39e933bd",
   "metadata": {},
   "outputs": [
    {
     "data": {
      "text/plain": [
       "[('rapes', 1),\n",
       " ('booze', 1),\n",
       " ('megane', 1),\n",
       " ('over18s', 1),\n",
       " ('1416', 1),\n",
       " ('407bn', 1),\n",
       " ('komileva', 1),\n",
       " ('419m', 1),\n",
       " ('rationalisation', 1),\n",
       " ('lena', 1),\n",
       " ('81bn', 1),\n",
       " ('yamane', 1),\n",
       " ('payer', 1),\n",
       " ('prebon', 1),\n",
       " ('twotier', 1),\n",
       " ('ofsquabbling', 1),\n",
       " ('improbability', 1),\n",
       " ('inefficiencies', 1),\n",
       " ('m3u', 1)]"
      ]
     },
     "execution_count": 9,
     "metadata": {},
     "output_type": "execute_result"
    }
   ],
   "source": [
    "#Least frequent words before lemmenization \n",
    "freq = pd.Series(' '.join(df.clean).split()).value_counts().to_dict()\n",
    "\n",
    "list(freq.items())[33859:]\n"
   ]
  },
  {
   "cell_type": "markdown",
   "id": "1a81a7a8",
   "metadata": {},
   "source": [
    "Most of these words are not real words or are difficult to make out. Will look later at the least frequent words after lemmenization"
   ]
  },
  {
   "cell_type": "code",
   "execution_count": 10,
   "id": "1cad6981",
   "metadata": {},
   "outputs": [
    {
     "data": {
      "text/plain": [
       "[('said', 7244),\n",
       " ('mr', 3004),\n",
       " ('would', 2554),\n",
       " ('also', 2141),\n",
       " ('people', 1954),\n",
       " ('new', 1942),\n",
       " ('us', 1886),\n",
       " ('one', 1733),\n",
       " ('year', 1598),\n",
       " ('could', 1505),\n",
       " ('last', 1380),\n",
       " ('first', 1272),\n",
       " ('years', 1223),\n",
       " ('two', 1153),\n",
       " ('time', 1142),\n",
       " ('government', 1020),\n",
       " ('world', 998),\n",
       " ('e', 977),\n",
       " ('uk', 955),\n",
       " ('make', 917)]"
      ]
     },
     "execution_count": 10,
     "metadata": {},
     "output_type": "execute_result"
    }
   ],
   "source": [
    "#Least frequent words before lemmenization \n",
    "list(freq.items())[:20]"
   ]
  },
  {
   "cell_type": "markdown",
   "id": "5362f3a8",
   "metadata": {},
   "source": [
    "## Lemmenization"
   ]
  },
  {
   "cell_type": "markdown",
   "id": "b88940c8",
   "metadata": {},
   "source": [
    "### Convert words into root words and then create a visualization with text analytics"
   ]
  },
  {
   "cell_type": "code",
   "execution_count": 11,
   "id": "50a127c1",
   "metadata": {},
   "outputs": [
    {
     "name": "stderr",
     "output_type": "stream",
     "text": [
      "[nltk_data] Downloading package wordnet to\n",
      "[nltk_data]     /Users/elizabethdombowsky/nltk_data...\n",
      "[nltk_data]   Package wordnet is already up-to-date!\n"
     ]
    }
   ],
   "source": [
    "import nltk\n",
    "from nltk.stem import WordNetLemmatizer\n",
    "nltk.download('wordnet')\n",
    "\n",
    "#establish the lemmatizer\n",
    "wordnet_lemmatizer = WordNetLemmatizer()"
   ]
  },
  {
   "cell_type": "code",
   "execution_count": 12,
   "id": "5652b08b",
   "metadata": {},
   "outputs": [
    {
     "data": {
      "text/html": [
       "<div>\n",
       "<style scoped>\n",
       "    .dataframe tbody tr th:only-of-type {\n",
       "        vertical-align: middle;\n",
       "    }\n",
       "\n",
       "    .dataframe tbody tr th {\n",
       "        vertical-align: top;\n",
       "    }\n",
       "\n",
       "    .dataframe thead th {\n",
       "        text-align: right;\n",
       "    }\n",
       "</style>\n",
       "<table border=\"1\" class=\"dataframe\">\n",
       "  <thead>\n",
       "    <tr style=\"text-align: right;\">\n",
       "      <th></th>\n",
       "      <th>id</th>\n",
       "      <th>news</th>\n",
       "      <th>type</th>\n",
       "      <th>clean</th>\n",
       "      <th>text</th>\n",
       "    </tr>\n",
       "  </thead>\n",
       "  <tbody>\n",
       "    <tr>\n",
       "      <th>0</th>\n",
       "      <td>0</td>\n",
       "      <td>UK economy facing 'major risks'\\n \\n The UK ma...</td>\n",
       "      <td>business</td>\n",
       "      <td>uk economy facing major risks uk manufacturing...</td>\n",
       "      <td>uk economy facing major risk uk manufacturing ...</td>\n",
       "    </tr>\n",
       "    <tr>\n",
       "      <th>1</th>\n",
       "      <td>1</td>\n",
       "      <td>Aids and climate top Davos agenda\\n \\n Climate...</td>\n",
       "      <td>business</td>\n",
       "      <td>aids climate top davos agenda climate change f...</td>\n",
       "      <td>aid climate top davos agenda climate change fi...</td>\n",
       "    </tr>\n",
       "    <tr>\n",
       "      <th>2</th>\n",
       "      <td>2</td>\n",
       "      <td>Asian quake hits European shares\\n \\n Shares i...</td>\n",
       "      <td>business</td>\n",
       "      <td>asian quake hits european shares shares europe...</td>\n",
       "      <td>asian quake hit european share share europe le...</td>\n",
       "    </tr>\n",
       "    <tr>\n",
       "      <th>3</th>\n",
       "      <td>3</td>\n",
       "      <td>India power shares jump on debut\\n \\n Shares i...</td>\n",
       "      <td>business</td>\n",
       "      <td>india power shares jump debut shares indias la...</td>\n",
       "      <td>india power share jump debut share india large...</td>\n",
       "    </tr>\n",
       "    <tr>\n",
       "      <th>4</th>\n",
       "      <td>4</td>\n",
       "      <td>Lacroix label bought by US firm\\n \\n Luxury go...</td>\n",
       "      <td>business</td>\n",
       "      <td>lacroix label bought us firm luxury goods grou...</td>\n",
       "      <td>lacroix label bought u firm luxury good group ...</td>\n",
       "    </tr>\n",
       "    <tr>\n",
       "      <th>5</th>\n",
       "      <td>5</td>\n",
       "      <td>Insurance bosses plead guilty\\n \\n Another thr...</td>\n",
       "      <td>business</td>\n",
       "      <td>insurance bosses plead guilty another three us...</td>\n",
       "      <td>insurance boss plead guilty another three u in...</td>\n",
       "    </tr>\n",
       "    <tr>\n",
       "      <th>6</th>\n",
       "      <td>6</td>\n",
       "      <td>Turkey-Iran mobile deal 'at risk'\\n \\n Turkey'...</td>\n",
       "      <td>business</td>\n",
       "      <td>turkeyiran mobile deal risk turkeys investment...</td>\n",
       "      <td>turkeyiran mobile deal risk turkey investment ...</td>\n",
       "    </tr>\n",
       "    <tr>\n",
       "      <th>7</th>\n",
       "      <td>7</td>\n",
       "      <td>Parmalat to return to stockmarket\\n \\n Parmala...</td>\n",
       "      <td>business</td>\n",
       "      <td>parmalat return stockmarket parmalat italian p...</td>\n",
       "      <td>parmalat return stockmarket parmalat italian p...</td>\n",
       "    </tr>\n",
       "    <tr>\n",
       "      <th>8</th>\n",
       "      <td>8</td>\n",
       "      <td>WorldCom director admits lying\\n \\n The former...</td>\n",
       "      <td>business</td>\n",
       "      <td>director admits lying former chief financial o...</td>\n",
       "      <td>director admits lying former chief financial o...</td>\n",
       "    </tr>\n",
       "    <tr>\n",
       "      <th>9</th>\n",
       "      <td>9</td>\n",
       "      <td>Ebbers denies WorldCom fraud\\n \\n Former World...</td>\n",
       "      <td>business</td>\n",
       "      <td>ebbers denies fraud former chief bernie ebbers...</td>\n",
       "      <td>ebbers denies fraud former chief bernie ebbers...</td>\n",
       "    </tr>\n",
       "  </tbody>\n",
       "</table>\n",
       "</div>"
      ],
      "text/plain": [
       "   id                                               news      type  \\\n",
       "0   0  UK economy facing 'major risks'\\n \\n The UK ma...  business   \n",
       "1   1  Aids and climate top Davos agenda\\n \\n Climate...  business   \n",
       "2   2  Asian quake hits European shares\\n \\n Shares i...  business   \n",
       "3   3  India power shares jump on debut\\n \\n Shares i...  business   \n",
       "4   4  Lacroix label bought by US firm\\n \\n Luxury go...  business   \n",
       "5   5  Insurance bosses plead guilty\\n \\n Another thr...  business   \n",
       "6   6  Turkey-Iran mobile deal 'at risk'\\n \\n Turkey'...  business   \n",
       "7   7  Parmalat to return to stockmarket\\n \\n Parmala...  business   \n",
       "8   8  WorldCom director admits lying\\n \\n The former...  business   \n",
       "9   9  Ebbers denies WorldCom fraud\\n \\n Former World...  business   \n",
       "\n",
       "                                               clean  \\\n",
       "0  uk economy facing major risks uk manufacturing...   \n",
       "1  aids climate top davos agenda climate change f...   \n",
       "2  asian quake hits european shares shares europe...   \n",
       "3  india power shares jump debut shares indias la...   \n",
       "4  lacroix label bought us firm luxury goods grou...   \n",
       "5  insurance bosses plead guilty another three us...   \n",
       "6  turkeyiran mobile deal risk turkeys investment...   \n",
       "7  parmalat return stockmarket parmalat italian p...   \n",
       "8  director admits lying former chief financial o...   \n",
       "9  ebbers denies fraud former chief bernie ebbers...   \n",
       "\n",
       "                                                text  \n",
       "0  uk economy facing major risk uk manufacturing ...  \n",
       "1  aid climate top davos agenda climate change fi...  \n",
       "2  asian quake hit european share share europe le...  \n",
       "3  india power share jump debut share india large...  \n",
       "4  lacroix label bought u firm luxury good group ...  \n",
       "5  insurance boss plead guilty another three u in...  \n",
       "6  turkeyiran mobile deal risk turkey investment ...  \n",
       "7  parmalat return stockmarket parmalat italian p...  \n",
       "8  director admits lying former chief financial o...  \n",
       "9  ebbers denies fraud former chief bernie ebbers...  "
      ]
     },
     "execution_count": 12,
     "metadata": {},
     "output_type": "execute_result"
    }
   ],
   "source": [
    "df['text'] = df.clean.apply(lambda x: \" \".join(wordnet_lemmatizer.lemmatize(w) for w in x.split()))\n",
    "df.head(10)"
   ]
  },
  {
   "cell_type": "markdown",
   "id": "424b9721",
   "metadata": {},
   "source": [
    "## Text Analytics"
   ]
  },
  {
   "cell_type": "markdown",
   "id": "98a4ec85",
   "metadata": {},
   "source": [
    "### Look at common words and then create  a visualization based on most common words"
   ]
  },
  {
   "cell_type": "markdown",
   "id": "9445bff9",
   "metadata": {},
   "source": [
    "### Create a frequency dictionary "
   ]
  },
  {
   "cell_type": "code",
   "execution_count": 13,
   "id": "e01e4731",
   "metadata": {},
   "outputs": [
    {
     "data": {
      "text/plain": [
       "[('said', 7244),\n",
       " ('mr', 3004),\n",
       " ('would', 2554),\n",
       " ('also', 2141),\n",
       " ('people', 1954),\n",
       " ('new', 1942),\n",
       " ('us', 1886),\n",
       " ('one', 1733),\n",
       " ('year', 1598),\n",
       " ('could', 1505),\n",
       " ('last', 1380),\n",
       " ('first', 1272),\n",
       " ('years', 1223),\n",
       " ('two', 1153),\n",
       " ('time', 1142),\n",
       " ('government', 1020),\n",
       " ('world', 998),\n",
       " ('e', 977),\n",
       " ('uk', 955),\n",
       " ('make', 917)]"
      ]
     },
     "execution_count": 13,
     "metadata": {},
     "output_type": "execute_result"
    }
   ],
   "source": [
    "freq = pd.Series(' '.join(df.clean).split()).value_counts().to_dict()\n",
    "\n",
    "list(freq.items())[:20]"
   ]
  },
  {
   "cell_type": "markdown",
   "id": "49446833",
   "metadata": {},
   "source": [
    "All of these are words except for the letter e, this should be deleted because it is not a word "
   ]
  },
  {
   "cell_type": "code",
   "execution_count": 14,
   "id": "8a6759c6",
   "metadata": {},
   "outputs": [
    {
     "data": {
      "text/plain": [
       "[('said', 7226),\n",
       " ('mr', 3000),\n",
       " ('would', 2531),\n",
       " ('also', 2138),\n",
       " ('people', 1942),\n",
       " ('new', 1927),\n",
       " ('us', 1880),\n",
       " ('one', 1727),\n",
       " ('year', 1592),\n",
       " ('could', 1492),\n",
       " ('last', 1378),\n",
       " ('first', 1257),\n",
       " ('years', 1216),\n",
       " ('two', 1150),\n",
       " ('time', 1124),\n",
       " ('government', 1016),\n",
       " ('world', 997),\n",
       " ('uk', 952),\n",
       " ('make', 913),\n",
       " ('told', 911)]"
      ]
     },
     "execution_count": 14,
     "metadata": {},
     "output_type": "execute_result"
    }
   ],
   "source": [
    "remove = ' e '\n",
    "df['clean'] = df.clean.str.replace(remove,'')\n",
    "\n",
    "freq = pd.Series(' '.join(df.clean).split()).value_counts().to_dict()\n",
    "list(freq.items())[:20]"
   ]
  },
  {
   "cell_type": "markdown",
   "id": "3aae7d88",
   "metadata": {},
   "source": [
    "Now that this has been deleted, there are quite a few other words as well. I will delete these too"
   ]
  },
  {
   "cell_type": "code",
   "execution_count": 15,
   "id": "979aca80",
   "metadata": {},
   "outputs": [
    {
     "data": {
      "text/plain": [
       "[('said', 7226),\n",
       " ('mr', 3000),\n",
       " ('would', 2531),\n",
       " ('also', 2138),\n",
       " ('people', 1942),\n",
       " ('new', 1927),\n",
       " ('us', 1880),\n",
       " ('one', 1727),\n",
       " ('year', 1592),\n",
       " ('could', 1492),\n",
       " ('last', 1378),\n",
       " ('first', 1257),\n",
       " ('years', 1216),\n",
       " ('two', 1150),\n",
       " ('time', 1124),\n",
       " ('government', 1016),\n",
       " ('world', 997),\n",
       " ('uk', 952),\n",
       " ('e', 916),\n",
       " ('told', 911)]"
      ]
     },
     "execution_count": 15,
     "metadata": {},
     "output_type": "execute_result"
    }
   ],
   "source": [
    "#Remove words\n",
    "remove = 'popl'\n",
    "df['clean'] = df.clean.str.replace(remove,'')\n",
    "freq = pd.Series(' '.join(df.clean).split()).value_counts().to_dict()\n",
    "\n",
    "remove = 'yar'\n",
    "df['clean'] = df.clean.str.replace(remove,'')\n",
    "freq = pd.Series(' '.join(df.clean).split()).value_counts().to_dict()\n",
    "\n",
    "\n",
    "remove = 'yars'\n",
    "df['clean'] = df.clean.str.replace(remove,'')\n",
    "freq = pd.Series(' '.join(df.clean).split()).value_counts().to_dict()\n",
    "\n",
    "remove = 'govrnmnt'\n",
    "df['clean'] = df.clean.str.replace(remove,'')\n",
    "freq = pd.Series(' '.join(df.clean).split()).value_counts().to_dict()\n",
    "\n",
    "remove = 'mak'\n",
    "df['clean'] = df.clean.str.replace(remove,'')\n",
    "freq = pd.Series(' '.join(df.clean).split()).value_counts().to_dict()\n",
    "\n",
    "remove = \"bst\"\n",
    "df['clean'] = df.clean.str.replace(remove,'')\n",
    "freq = pd.Series(' '.join(df.clean).split()).value_counts().to_dict()\n",
    "\n",
    "list(freq.items())[:20]"
   ]
  },
  {
   "cell_type": "markdown",
   "id": "f04dbf5f",
   "metadata": {},
   "source": [
    "Remove process again"
   ]
  },
  {
   "cell_type": "code",
   "execution_count": 16,
   "id": "21edd228",
   "metadata": {},
   "outputs": [
    {
     "data": {
      "text/plain": [
       "[('said', 7226),\n",
       " ('e', 3806),\n",
       " ('mr', 3000),\n",
       " ('would', 2531),\n",
       " ('us', 2205),\n",
       " ('also', 2138),\n",
       " ('people', 1942),\n",
       " ('new', 1927),\n",
       " ('one', 1727),\n",
       " ('year', 1592),\n",
       " ('could', 1492),\n",
       " ('last', 1390),\n",
       " ('first', 1257),\n",
       " ('years', 1216),\n",
       " ('es', 1214),\n",
       " ('go', 1213),\n",
       " ('two', 1150),\n",
       " ('time', 1124),\n",
       " ('government', 1016),\n",
       " ('world', 997)]"
      ]
     },
     "execution_count": 16,
     "metadata": {},
     "output_type": "execute_result"
    }
   ],
   "source": [
    "remove = ' s '\n",
    "df['clean'] = df.clean.str.replace(remove,'')\n",
    "freq = pd.Series(' '.join(df.clean).split()).value_counts().to_dict()\n",
    "\n",
    "remove = 'nd'\n",
    "df['clean'] = df.clean.str.replace(remove,'')\n",
    "freq = pd.Series(' '.join(df.clean).split()).value_counts().to_dict()\n",
    "\n",
    "\n",
    "remove = 'gt'\n",
    "df['clean'] = df.clean.str.replace(remove,'')\n",
    "freq = pd.Series(' '.join(df.clean).split()).value_counts().to_dict()\n",
    "\n",
    "remove = 'lik'\n",
    "df['clean'] = df.clean.str.replace(remove,'')\n",
    "freq = pd.Series(' '.join(df.clean).split()).value_counts().to_dict()\n",
    "\n",
    "remove = 'gam'\n",
    "df['clean'] = df.clean.str.replace(remove,'')\n",
    "freq = pd.Series(' '.join(df.clean).split()).value_counts().to_dict()\n",
    "\n",
    "remove = 'ing'\n",
    "df['clean'] = df.clean.str.replace(remove,'')\n",
    "freq = pd.Series(' '.join(df.clean).split()).value_counts().to_dict()\n",
    "\n",
    "remove = 'tak'\n",
    "df['clean'] = df.clean.str.replace(remove,'')\n",
    "freq = pd.Series(' '.join(df.clean).split()).value_counts().to_dict()\n",
    "\n",
    "list(freq.items())[:20]"
   ]
  },
  {
   "cell_type": "code",
   "execution_count": 17,
   "id": "c891d309",
   "metadata": {},
   "outputs": [
    {
     "data": {
      "text/plain": [
       "[('aeroplane', 1),\n",
       " ('stewardess', 1),\n",
       " ('centfirst', 1),\n",
       " ('inferno', 1),\n",
       " ('disloyalty', 1),\n",
       " ('tryin', 1),\n",
       " ('topper', 1),\n",
       " ('masscre', 1),\n",
       " ('concurrent', 1),\n",
       " ('m3uunknown', 1)]"
      ]
     },
     "execution_count": 17,
     "metadata": {},
     "output_type": "execute_result"
    }
   ],
   "source": [
    "# Least Frequent Words\n",
    "list(freq.items())[33539:]"
   ]
  },
  {
   "cell_type": "markdown",
   "id": "2acf0558",
   "metadata": {},
   "source": [
    "This looks so much better than before lemmenization. There are not any similiar words to before. In the before lemmenization, the word \"rapes\" was there. It is likely lemmenization turned it into rape and then it was fit with another word and moved up along the line. Lemmenization helps prevent words like this to be categorized alone when they are both the same word by getting the root word"
   ]
  },
  {
   "cell_type": "markdown",
   "id": "e747792a",
   "metadata": {},
   "source": [
    "Now that this looks better, this can be visualized "
   ]
  },
  {
   "cell_type": "markdown",
   "id": "b7ef5edf",
   "metadata": {},
   "source": [
    "## Visualization of Most Frequent Words"
   ]
  },
  {
   "cell_type": "code",
   "execution_count": 18,
   "id": "a11203e0",
   "metadata": {},
   "outputs": [],
   "source": [
    "from wordcloud import WordCloud\n",
    "\n",
    "wc = WordCloud(width=1000, height=600, max_words=200).generate_from_frequencies(freq)"
   ]
  },
  {
   "cell_type": "code",
   "execution_count": 19,
   "id": "5d46c86c",
   "metadata": {},
   "outputs": [
    {
     "data": {
      "image/png": "[encoded data removed]",
      "text/plain": [
       "<Figure size 720x720 with 1 Axes>"
      ]
     },
     "metadata": {},
     "output_type": "display_data"
    }
   ],
   "source": [
    "import matplotlib.pyplot as plt\n",
    "\n",
    "plt.figure(figsize=(10, 10))\n",
    "plt.imshow(wc, interpolation='bilinear')\n",
    "plt.axis('off')\n",
    "plt.show()"
   ]
  },
  {
   "cell_type": "markdown",
   "id": "983e96b6",
   "metadata": {},
   "source": [
    "You can clearly see the top two words are mr and said and the rest of the words, even more than 20 are put in the background acording to their frequency"
   ]
  },
  {
   "cell_type": "markdown",
   "id": "b277780e",
   "metadata": {},
   "source": [
    "## Ngrams"
   ]
  },
  {
   "cell_type": "markdown",
   "id": "6c54330a",
   "metadata": {},
   "source": [
    "### Recreate the tokens list "
   ]
  },
  {
   "cell_type": "code",
   "execution_count": 20,
   "id": "f04b29df",
   "metadata": {},
   "outputs": [],
   "source": [
    "tokens = ' '.join(df.clean).split()"
   ]
  },
  {
   "cell_type": "markdown",
   "id": "f4a65664",
   "metadata": {},
   "source": [
    "###  Create bigrams and trigrams"
   ]
  },
  {
   "cell_type": "markdown",
   "id": "1ed1160a",
   "metadata": {},
   "source": [
    "### Bigrams with frequency distribution "
   ]
  },
  {
   "cell_type": "code",
   "execution_count": 21,
   "id": "feb714e8",
   "metadata": {},
   "outputs": [
    {
     "data": {
      "text/plain": [
       "[(('last', 'year'), 377),\n",
       " (('said', 'mr'), 359),\n",
       " (('told', 'bbc'), 347),\n",
       " (('mr', 'blair'), 294),\n",
       " (('prime', 'minister'), 273),\n",
       " (('mr', 'brown'), 214),\n",
       " (('chief', 'executive'), 196),\n",
       " (('said', 'would'), 190),\n",
       " (('bbc', 'news'), 178),\n",
       " (('general', 'election'), 166),\n",
       " (('last', 'week'), 164),\n",
       " (('six', 'nations'), 162),\n",
       " (('tony', 'blair'), 162),\n",
       " (('new', 'york'), 154),\n",
       " (('mr', 'howard'), 145),\n",
       " (('would', 'e'), 143),\n",
       " (('number', 'one'), 139),\n",
       " (('first', 'time'), 138),\n",
       " (('years', 'ago'), 126),\n",
       " (('human', 'rights'), 116)]"
      ]
     },
     "execution_count": 21,
     "metadata": {},
     "output_type": "execute_result"
    }
   ],
   "source": [
    "ngrams_2 = nltk.bigrams(tokens)\n",
    "\n",
    "freq_2grams = pd.Series(ngrams_2).value_counts().to_dict()\n",
    "list(freq_2grams.items())[:20]"
   ]
  },
  {
   "cell_type": "markdown",
   "id": "e3ed62b1",
   "metadata": {},
   "source": [
    "## Look at Trigrams"
   ]
  },
  {
   "cell_type": "code",
   "execution_count": 22,
   "id": "24c8edcc",
   "metadata": {},
   "outputs": [
    {
     "data": {
      "text/plain": [
       "[(('told', 'bbc', 'news'), 147),\n",
       " (('bbc', 'news', 'website'), 94),\n",
       " (('told', 'bbc', 'radio'), 76),\n",
       " (('bbc', 'radio', '4s'), 58),\n",
       " (('leader', 'michael', 'howard'), 55),\n",
       " (('mr', 'blair', 'said'), 54),\n",
       " (('radio', '4s', 'today'), 53),\n",
       " (('4s', 'today', 'programme'), 49),\n",
       " (('told', 'bbc', 'sport'), 48),\n",
       " (('million', 'dollar', 'baby'), 48),\n",
       " (('mr', 'howard', 'said'), 41),\n",
       " (('tory', 'leader', 'michael'), 41),\n",
       " (('next', 'general', 'election'), 37),\n",
       " (('leader', 'charles', 'kennedy'), 32),\n",
       " (('prime', 'minister', 'tony'), 32),\n",
       " (('two', 'years', 'ago'), 28),\n",
       " (('coach', 'ay', 'robinson'), 27),\n",
       " (('chancellor', 'gordon', 'brown'), 27),\n",
       " (('minister', 'tony', 'blair'), 26),\n",
       " (('mr', 'blair', 'told'), 26)]"
      ]
     },
     "execution_count": 22,
     "metadata": {},
     "output_type": "execute_result"
    }
   ],
   "source": [
    "ngrams_3 = nltk.trigrams(tokens)\n",
    "\n",
    "freq_3grams = pd.Series(ngrams_3).value_counts().to_dict()\n",
    "list(freq_3grams.items())[:20]"
   ]
  },
  {
   "cell_type": "markdown",
   "id": "a1876080",
   "metadata": {},
   "source": [
    "### the tri-grams give the most information. There are definitely clear and understandable patterns in the trigrams like \"bbc\", \"news\", \"website\" and you can tell who the posts are talking about. "
   ]
  },
  {
   "cell_type": "markdown",
   "id": "ac3142f6",
   "metadata": {},
   "source": [
    "## Part of Speech"
   ]
  },
  {
   "cell_type": "code",
   "execution_count": 23,
   "id": "5d5e9844",
   "metadata": {},
   "outputs": [
    {
     "data": {
      "text/plain": [
       "[('uk', 'JJ'),\n",
       " ('economy', 'NN'),\n",
       " ('fac', 'JJ'),\n",
       " ('major', 'JJ'),\n",
       " ('risks', 'NNS'),\n",
       " ('uk', 'JJ'),\n",
       " ('manufactur', 'NN'),\n",
       " ('sector', 'NN'),\n",
       " ('continue', 'VBP'),\n",
       " ('face', 'VBP'),\n",
       " ('serious', 'JJ'),\n",
       " ('challenges', 'NNS'),\n",
       " ('next', 'IN'),\n",
       " ('two', 'CD'),\n",
       " ('years', 'NNS'),\n",
       " ('british', 'JJ'),\n",
       " ('chamber', 'VBP'),\n",
       " ('merce', 'NN'),\n",
       " ('bcc', 'NN'),\n",
       " ('said', 'VBD')]"
      ]
     },
     "execution_count": 23,
     "metadata": {},
     "output_type": "execute_result"
    }
   ],
   "source": [
    "from nltk.tag import pos_tag\n",
    "\n",
    "pos_tags = pos_tag(tokens)\n",
    "pos_tags[:20]"
   ]
  },
  {
   "cell_type": "markdown",
   "id": "99ef230b",
   "metadata": {},
   "source": [
    "### Create frequency distribution for parts of speech"
   ]
  },
  {
   "cell_type": "code",
   "execution_count": 24,
   "id": "a4149ff8",
   "metadata": {},
   "outputs": [
    {
     "data": {
      "text/plain": [
       "Counter({'JJ': 89954,\n",
       "         'NN': 173612,\n",
       "         'NNS': 62640,\n",
       "         'VBP': 29189,\n",
       "         'IN': 6171,\n",
       "         'CD': 21949,\n",
       "         'VBD': 34000,\n",
       "         'JJS': 2307,\n",
       "         'RB': 24366,\n",
       "         'VBN': 11885,\n",
       "         'VB': 10404,\n",
       "         'FW': 877,\n",
       "         'VBZ': 8826,\n",
       "         'JJR': 1782,\n",
       "         'NNP': 657,\n",
       "         'WP$': 120,\n",
       "         'MD': 5295,\n",
       "         'PRP': 2237,\n",
       "         'CC': 318,\n",
       "         'DT': 963,\n",
       "         'RBR': 1040,\n",
       "         'RBS': 156,\n",
       "         'RP': 330,\n",
       "         '$': 104,\n",
       "         'NNPS': 72,\n",
       "         'WP': 59,\n",
       "         'WDT': 71,\n",
       "         'PRP$': 26,\n",
       "         'WRB': 41,\n",
       "         'PDT': 3,\n",
       "         'POS': 4,\n",
       "         'EX': 2,\n",
       "         'UH': 10,\n",
       "         'SYM': 5,\n",
       "         'TO': 1})"
      ]
     },
     "execution_count": 24,
     "metadata": {},
     "output_type": "execute_result"
    }
   ],
   "source": [
    "from collections import Counter\n",
    "\n",
    "Counter([j for i,j in pos_tag(tokens)])"
   ]
  },
  {
   "cell_type": "markdown",
   "id": "b434b9c1",
   "metadata": {},
   "source": [
    "### Topic Modeling "
   ]
  },
  {
   "cell_type": "markdown",
   "id": "55219d1c",
   "metadata": {},
   "source": [
    "unsupervised machine learning model to cluster words for a set of documents"
   ]
  },
  {
   "cell_type": "code",
   "execution_count": 25,
   "id": "8f92d458",
   "metadata": {},
   "outputs": [
    {
     "name": "stdout",
     "output_type": "stream",
     "text": [
      "[['uk', 'economy', 'fac', 'major', 'risks', 'uk', 'manufactur', 'sector', 'continue', 'face', 'serious', 'challenges', 'next', 'two', 'years', 'british', 'chamber', 'merce', 'bcc', 'said', 'groups', 'quarterly', 'survey', 'panies', 'fou', 'exports', 'picked', 'last', 'three', 'months', '2004', 'best', 'levels', 'eight', 'years', 'rise', 'came', 'despite', 'exchange', 'rates', 'cited', 'major', 'concern', 'however', 'bcc', 'fou', 'whole', 'uk', 'economy', 'still', 'faced', 'major', 'risks', 'warned', 'growth', 'set', 'slow', 'recently', 'forecast', 'economic', 'growth', 'slow', '3', '2004', 'little', '25', '2005', '2006', 'manufacturers', 'domestic', 'sales', 'growth', 'fell', 'back', 'slightly', 'quarter', 'survey', '5196', 'firms', 'fou', 'employment', 'manufactur', 'also', 'fell', 'job', 'expectations', 'lowest', 'level', 'year', 'despite', 'positive', 'news', 'export', 'sector', 'worry', 'signs', 'manufactur', 'bcc', 'said', 'results', 'reinforce', 'concern', 'sectors', 'persistent', 'inability', 'sustain', 'recovery', 'outlook', 'service', 'sector', 'uncertain', 'despite', 'increase', 'exports', 'orders', 'quarter', 'bcc', 'noted', 'bcc', 'fou', 'confidence', 'increased', 'quarter', 'across', 'manufactur', 'service', 'sectors', 'although', 'overall', 'failed', 'reach', 'levels', 'start', '2004', 'reduced', 'threat', 'interest', 'rate', 'increases', 'contributed', 'improved', 'confidence', 'said', 'bank', 'engla', 'raised', 'interest', 'rates', 'five', 'times', 'november', '2003', 'august', 'last', 'year', 'rates', 'kept', 'hold', 'since', 'amid', 'signs', 'fall', 'consumer', 'confidence', 'slowdown', 'output', 'pressure', 'costs', 'margins', 'relentless', 'increase', 'regulations', 'threat', 'higher', 'taxes', 'remain', 'serious', 'problems', 'bcc', 'director', 'general', 'david', 'frost', 'said', 'consumer', 'spe', 'set', 'decelerate', 'significantly', 'next', '1218', 'months', 'unely', 'investment', 'exports', 'rise', 'sufficiently', 'strongly', 'pick', 'slack'], ['aids', 'climate', 'top', 'davos', 'agea', 'climate', 'change', 'fight', 'aids', 'lead', 'list', 'concerns', 'first', 'day', 'world', 'economic', 'forum', 'swiss', 'resort', 'davos', '2000', 'business', 'political', 'leaders', 'arou', 'globe', 'listen', 'uk', 'prime', 'minister', 'tony', 'blairs', 'open', 'speech', 'wednesday', 'mr', 'blair', 'focus', 'africas', 'development', 'plans', 'global', 'warm', 'earlier', 'day', 'came', 'update', 'efforts', '3', 'million', 'people', 'antiaids', 'drugs', 'e', '2005', 'world', 'health', 'organisation', 'said', '700000', 'people', 'poor', 'countries', 'lifeexte', 'drugs', '440000', 'six', 'months', 'earlier', 'amount', '12', '58', 'million', 'needed', '2bn', 'fu', 'gap', 'still', 'stood', 'way', 'hitt', '2005', 'target', 'said', 'themes', 'stressed', 'mr', 'blair', 'whose', 'atteance', 'announced', 'last', 'minute', 'wants', 'dominate', 'uks', 'chairmanship', 'g8', 'group', 'iustrialised', 'states', 'issues', 'discussed', 'fiveday', 'conference', 'range', 'chinas', 'economic', 'power', 'iraqs', 'future', 'suays', 'elections', 'aside', 'mr', 'blair', '20', 'world', 'leaders', 'expected', 'atte', 'includ', 'french', 'president', 'jacques', 'chirac', 'due', 'speak', 'video', 'link', 'bad', 'weather', 'delayed', 'helicopter', 'south', 'african', 'president', 'thabo', 'mbeki', 'whose', 'arrival', 'delayed', 'ivory', 'coast', 'peace', 'talks', 'ukraines', 'new', 'president', 'viktor', 'yushchenko', 'also', 'newly', 'elected', 'palestinian', 'leader', 'mahmoud', 'abbas', 'showbiz', 'figures', 'also', 'put', 'appearance', 'u2', 'frontman', 'bono', 'wellknown', 'campaigner', 'trade', 'development', 'issues', 'angelina', 'jolie', 'goodwill', 'campaigner', 'un', 'refugees', 'une', 'previous', 'years', 'protests', 'wef', 'expected', 'muted', 'antiglobalisation', 'campaigners', 'called', 'demonstration', 'planned', 'weeke', 'time', '100000', 'people', 'expected', 'converge', 'brazilian', 'resort', 'porto', 'alegre', 'world', 'social', 'forum', 'socalled', 'antidavos', 'campaigners', 'globalisation', 'fair', 'trade', 'many', 'causes', 'contrast', 'davos', 'forum', 'dominated', 'business', 'issues', 'outsourc', 'corporate', 'leadership', 'bosses', 'fifth', 'worlds', '500', 'panies', 'led', 'atte', 'survey', 'published', 'eve', 'conference', 'pricewaterhousecoopers', 'said', 'four', 'ten', 'business', 'leaders', 'confident', 'panies', 'would', 'see', 'sales', 'rise', '2005', 'asian', 'american', 'executives', 'however', 'much', 'confident', 'european', 'counterparts', 'political', 'discussions', 'focus', 'iran', 'iraq', 'china', 'ely', 'dominate', 'media', 'attention']]\n"
     ]
    }
   ],
   "source": [
    "lem_ls = list(df.clean.apply(lambda x: list(x.split())))\n",
    "print(lem_ls[:2])"
   ]
  },
  {
   "cell_type": "markdown",
   "id": "d34fefa5",
   "metadata": {},
   "source": [
    "### Use Gensim package "
   ]
  },
  {
   "cell_type": "code",
   "execution_count": 26,
   "id": "90a57306",
   "metadata": {},
   "outputs": [],
   "source": [
    "import gensim\n",
    "import gensim.corpora as corpora"
   ]
  },
  {
   "cell_type": "markdown",
   "id": "5412f3ef",
   "metadata": {},
   "source": [
    "### Create dictionary of the lemmatized words and a term document frequency for the data set"
   ]
  },
  {
   "cell_type": "code",
   "execution_count": 27,
   "id": "3d758054",
   "metadata": {},
   "outputs": [],
   "source": [
    "id2word = corpora.Dictionary(lem_ls)\n",
    "corpus = [id2word.doc2bow(post) for post in lem_ls]"
   ]
  },
  {
   "cell_type": "markdown",
   "id": "9065a0c6",
   "metadata": {},
   "source": [
    "### Build the LDA Model "
   ]
  },
  {
   "cell_type": "code",
   "execution_count": 28,
   "id": "21d6c656",
   "metadata": {},
   "outputs": [],
   "source": [
    "lda_model = gensim.models.LdaMulticore(corpus=corpus,\n",
    "                                       id2word=id2word,\n",
    "                                       num_topics=10, \n",
    "                                       random_state=42,\n",
    "                                       chunksize=100,\n",
    "                                       passes=10,\n",
    "                                       per_word_topics=True)"
   ]
  },
  {
   "cell_type": "markdown",
   "id": "ac74edb1",
   "metadata": {},
   "source": [
    "### Look at the results of the LDA model "
   ]
  },
  {
   "cell_type": "code",
   "execution_count": 29,
   "id": "6a4089a6",
   "metadata": {},
   "outputs": [
    {
     "name": "stdout",
     "output_type": "stream",
     "text": [
      "[(0, '0.013*\"said\" + 0.012*\"eu\" + 0.008*\"government\" + 0.006*\"european\" + 0.006*\"us\" + 0.006*\"would\" + 0.005*\"tax\" + 0.005*\"economic\" + 0.005*\"mr\" + 0.005*\"could\"'), (1, '0.014*\"e\" + 0.008*\"said\" + 0.005*\"play\" + 0.005*\"one\" + 0.005*\"first\" + 0.004*\"world\" + 0.004*\"es\" + 0.004*\"best\" + 0.004*\"go\" + 0.004*\"time\"'), (2, '0.011*\"yukos\" + 0.011*\"said\" + 0.007*\"oil\" + 0.007*\"us\" + 0.006*\"russian\" + 0.005*\"pany\" + 0.004*\"gazprom\" + 0.004*\"best\" + 0.004*\"auction\" + 0.004*\"firm\"'), (3, '0.016*\"said\" + 0.009*\"sales\" + 0.008*\"year\" + 0.007*\"us\" + 0.005*\"last\" + 0.005*\"new\" + 0.005*\"would\" + 0.005*\"pany\" + 0.005*\"also\" + 0.004*\"market\"'), (4, '0.014*\"said\" + 0.007*\"year\" + 0.007*\"growth\" + 0.005*\"economy\" + 0.005*\"email\" + 0.005*\"rise\" + 0.005*\"figures\" + 0.005*\"rate\" + 0.005*\"us\" + 0.005*\"spam\"'), (5, '0.024*\"said\" + 0.017*\"mr\" + 0.012*\"would\" + 0.008*\"labour\" + 0.007*\"election\" + 0.007*\"government\" + 0.006*\"blair\" + 0.006*\"people\" + 0.005*\"party\" + 0.005*\"e\"'), (6, '0.010*\"said\" + 0.004*\"china\" + 0.003*\"lord\" + 0.003*\"last\" + 0.003*\"two\" + 0.003*\"chinese\" + 0.003*\"answer\" + 0.002*\"would\" + 0.002*\"could\" + 0.002*\"three\"'), (7, '0.012*\"said\" + 0.007*\"us\" + 0.006*\"bank\" + 0.005*\"economy\" + 0.005*\"year\" + 0.005*\"new\" + 0.004*\"also\" + 0.004*\"growth\" + 0.004*\"dollar\" + 0.004*\"government\"'), (8, '0.016*\"said\" + 0.011*\"mr\" + 0.007*\"film\" + 0.004*\"e\" + 0.004*\"would\" + 0.004*\"us\" + 0.004*\"also\" + 0.003*\"court\" + 0.003*\"people\" + 0.003*\"best\"'), (9, '0.015*\"said\" + 0.012*\"e\" + 0.010*\"people\" + 0.006*\"technology\" + 0.005*\"es\" + 0.005*\"us\" + 0.005*\"also\" + 0.005*\"mobile\" + 0.005*\"new\" + 0.005*\"users\"')]\n"
     ]
    }
   ],
   "source": [
    "# Print the Keyword in the 10 topics\n",
    "print(lda_model.print_topics())"
   ]
  },
  {
   "cell_type": "markdown",
   "id": "3247a4e0",
   "metadata": {},
   "source": [
    "Top words are film, said, also, films, show, actor, director, star, us, and include. This is really interesting since BBC is a news app. There may be a lot of information about movie stars and movies coming out. "
   ]
  },
  {
   "cell_type": "markdown",
   "id": "b9846b44",
   "metadata": {},
   "source": [
    "## Evaluation of Model "
   ]
  },
  {
   "cell_type": "markdown",
   "id": "08b2248a",
   "metadata": {},
   "source": [
    "### Let's evaluate the accuracy of the model "
   ]
  },
  {
   "cell_type": "markdown",
   "id": "f3523bbc",
   "metadata": {},
   "source": [
    "## Optimization and Test Accuracy"
   ]
  },
  {
   "cell_type": "markdown",
   "id": "43d21638",
   "metadata": {},
   "source": [
    "use c_v for coherence model "
   ]
  },
  {
   "cell_type": "code",
   "execution_count": 30,
   "id": "e9eb3c6f",
   "metadata": {},
   "outputs": [
    {
     "name": "stdout",
     "output_type": "stream",
     "text": [
      "\n",
      "Coherence Score:  0.39830994075819365\n"
     ]
    }
   ],
   "source": [
    "from gensim.models import CoherenceModel\n",
    "\n",
    "# compute the coherence score\n",
    "coherence_model_lda = CoherenceModel(model=lda_model, \n",
    "                                     texts=lem_ls, \n",
    "                                     dictionary=id2word, \n",
    "                                     coherence='c_v')\n",
    "\n",
    "# retreive the coherence_scores\n",
    "coherence_lda = coherence_model_lda.get_coherence()\n",
    "\n",
    "print('\\nCoherence Score: ', coherence_lda)"
   ]
  },
  {
   "cell_type": "markdown",
   "id": "9d9220ca",
   "metadata": {},
   "source": [
    ".45 is not that good on a scale to 1, however the number of topics was randomly selected. Let's see the best number of topics"
   ]
  },
  {
   "cell_type": "code",
   "execution_count": 31,
   "id": "85a73e5d",
   "metadata": {},
   "outputs": [],
   "source": [
    "## Optimize Model "
   ]
  },
  {
   "cell_type": "markdown",
   "id": "0daeb247",
   "metadata": {},
   "source": [
    "Set the topics from 2 to 15 and compute the coherence scores "
   ]
  },
  {
   "cell_type": "code",
   "execution_count": 32,
   "id": "04cac0a0",
   "metadata": {},
   "outputs": [
    {
     "name": "stdout",
     "output_type": "stream",
     "text": [
      "Calcuting for 2 topics\n",
      "Calcuting for 3 topics\n",
      "Calcuting for 4 topics\n",
      "Calcuting for 5 topics\n",
      "Calcuting for 6 topics\n",
      "Calcuting for 7 topics\n",
      "Calcuting for 8 topics\n",
      "Calcuting for 9 topics\n",
      "Calcuting for 10 topics\n",
      "Calcuting for 11 topics\n",
      "Calcuting for 12 topics\n",
      "Calcuting for 13 topics\n",
      "Calcuting for 14 topics\n"
     ]
    }
   ],
   "source": [
    "\n",
    "scores = []\n",
    "for i in range(2,15):\n",
    "    print(f'Calcuting for {i} topics')\n",
    "    lda_model = gensim.models.LdaMulticore(corpus=corpus,\n",
    "                                       id2word=id2word,\n",
    "                                       num_topics=i, \n",
    "                                       random_state=42,\n",
    "                                       chunksize=100,\n",
    "                                       passes=10,\n",
    "                                       per_word_topics=True)\n",
    "    \n",
    "    coherence_model_lda = CoherenceModel(model=lda_model, \n",
    "                                         texts=lem_ls, \n",
    "                                         dictionary=id2word, \n",
    "                                         coherence='c_v')\n",
    "\n",
    "    \n",
    "    coherence_lda = coherence_model_lda.get_coherence()\n",
    "    \n",
    "    scores.append((i,coherence_lda))\n"
   ]
  },
  {
   "cell_type": "code",
   "execution_count": 33,
   "id": "856a0c70",
   "metadata": {},
   "outputs": [
    {
     "data": {
      "text/plain": [
       "[(2, 0.3144340640533852),\n",
       " (3, 0.29639315226968704),\n",
       " (4, 0.3263438997775753),\n",
       " (5, 0.38323723842677293),\n",
       " (6, 0.32766741257950266),\n",
       " (7, 0.35673874645519305),\n",
       " (8, 0.4232328486049304),\n",
       " (9, 0.36846103979212613),\n",
       " (10, 0.41165336994014246),\n",
       " (11, 0.3849318771935699),\n",
       " (12, 0.3764949257775481),\n",
       " (13, 0.3783086337107855),\n",
       " (14, 0.371807432906591)]"
      ]
     },
     "execution_count": 33,
     "metadata": {},
     "output_type": "execute_result"
    }
   ],
   "source": [
    "scores"
   ]
  },
  {
   "cell_type": "markdown",
   "id": "2e1eab80",
   "metadata": {},
   "source": [
    "The best score is 8 topics at .48. This is ok but not great, let's choose other parameters to increase the score by creating a best fit model "
   ]
  },
  {
   "cell_type": "markdown",
   "id": "b589e57a",
   "metadata": {},
   "source": [
    "### Create best fit model "
   ]
  },
  {
   "cell_type": "code",
   "execution_count": 34,
   "id": "51b553f3",
   "metadata": {},
   "outputs": [],
   "source": [
    "bf_lda_model = gensim.models.LdaMulticore(corpus=corpus,\n",
    "                                       id2word=id2word,\n",
    "                                       num_topics=8, \n",
    "                                       random_state=42,\n",
    "                                       chunksize=100,\n",
    "                                       passes=10,\n",
    "                                       per_word_topics=True)"
   ]
  },
  {
   "cell_type": "markdown",
   "id": "07cfcd8a",
   "metadata": {},
   "source": [
    "## Visualizing the Topics"
   ]
  },
  {
   "cell_type": "code",
   "execution_count": 35,
   "id": "62683e71",
   "metadata": {},
   "outputs": [
    {
     "name": "stderr",
     "output_type": "stream",
     "text": [
      "/Library/Frameworks/Python.framework/Versions/3.8/lib/python3.8/site-packages/past/builtins/misc.py:45: DeprecationWarning: the imp module is deprecated in favour of importlib; see the module's documentation for alternative uses\n",
      "  from imp import reload\n"
     ]
    }
   ],
   "source": [
    "import pyLDAvis.gensim \n",
    "import gensim"
   ]
  },
  {
   "cell_type": "code",
   "execution_count": 36,
   "id": "dba87a32",
   "metadata": {},
   "outputs": [],
   "source": [
    "# Packages necessry to support the visualization of the topic model\n",
    "import pyLDAvis\n",
    "import pyLDAvis.gensim\n",
    "pyLDAvis.enable_notebook()\n",
    "\n",
    "LDAvis_prepared = pyLDAvis.gensim.prepare(bf_lda_model, corpus, id2word)"
   ]
  },
  {
   "cell_type": "markdown",
   "id": "5347fa9e",
   "metadata": {},
   "source": [
    "## Print the topics and words "
   ]
  },
  {
   "cell_type": "code",
   "execution_count": 43,
   "id": "4df307b6",
   "metadata": {},
   "outputs": [
    {
     "name": "stdout",
     "output_type": "stream",
     "text": [
      "PreparedData(topic_coordinates=              x         y  topics  cluster       Freq\n",
      "topic                                                \n",
      "1      0.022332  0.141715       1        1  35.308761\n",
      "5      0.105915  0.035822       2        1  21.189043\n",
      "4      0.078509 -0.020381       3        1  12.198442\n",
      "3     -0.035757 -0.069327       4        1  10.114596\n",
      "0     -0.001413 -0.140947       5        1   7.050444\n",
      "7      0.059219 -0.012797       6        1   6.332865\n",
      "2     -0.186495  0.031140       7        1   4.715257\n",
      "6     -0.042310  0.034774       8        1   3.090593, topic_info=          Term         Freq        Total Category  logprob  loglift\n",
      "110       said  6708.000000  6708.000000  Default  30.0000  30.0000\n",
      "2428      film   711.000000   711.000000  Default  29.0000  29.0000\n",
      "16        best   704.000000   704.000000  Default  28.0000  28.0000\n",
      "589   software   569.000000   569.000000  Default  27.0000  27.0000\n",
      "3963    search   334.000000   334.000000  Default  26.0000  26.0000\n",
      "...        ...          ...          ...      ...      ...      ...\n",
      "79        news    33.506910   557.222350   Topic8  -6.1125   0.6656\n",
      "686        one    36.976208  1717.813133   Topic8  -6.0140  -0.3617\n",
      "135        two    33.451770   985.751657   Topic8  -6.1142   0.0935\n",
      "584        say    32.764097   746.812230   Topic8  -6.1350   0.3503\n",
      "531         us    34.252027  2284.602063   Topic8  -6.0905  -0.7234\n",
      "\n",
      "[645 rows x 6 columns], token_table=       Topic      Freq             Term\n",
      "term                                   \n",
      "23670      3  0.914390              167\n",
      "2          1  0.231268             2004\n",
      "2          2  0.049443             2004\n",
      "2          3  0.259977             2004\n",
      "2          4  0.317395             2004\n",
      "...      ...       ...              ...\n",
      "143        8  0.006544            years\n",
      "31367      6  0.906695            yoran\n",
      "2913       5  0.970411          yugansk\n",
      "2914       5  0.963326  yuganskneftegas\n",
      "2916       5  0.987344            yukos\n",
      "\n",
      "[1911 rows x 3 columns], R=30, lambda_step=0.01, plot_opts={'xlab': 'PC1', 'ylab': 'PC2'}, topic_order=[2, 6, 5, 4, 1, 8, 3, 7])\n"
     ]
    }
   ],
   "source": [
    "print(LDAvis_prepared)"
   ]
  },
  {
   "cell_type": "code",
   "execution_count": null,
   "id": "52034f94",
   "metadata": {},
   "outputs": [],
   "source": [
    "# Saving the visualization to a html. Open this in another browser window\n",
    "pyLDAvis.save_html(LDAvis_prepared,'topic_model_viz.html')"
   ]
  },
  {
   "cell_type": "markdown",
   "id": "6a0d780b",
   "metadata": {},
   "source": [
    "#### Insights"
   ]
  },
  {
   "cell_type": "markdown",
   "id": "af131231",
   "metadata": {},
   "source": [
    "Insights from the visualization are that the most common words are surrounded by film, government, and big name companies, this is the largest topic, topic #1. Topic #2 is mainly comprised of internet, access, and governemnt. Topic #3 is most frequent at election, economy, and president/prime minister. Topic #4 is comprised of market, shares, executive. So looking at the stock market. \n",
    "\n",
    "Overall the main themes are the government, films, the interent, economy, and the stock market. "
   ]
  },
  {
   "cell_type": "markdown",
   "id": "5ee5f65b",
   "metadata": {},
   "source": [
    "Summary:\n",
    "- Major themes from the words in the topics are government, films, the interent, economy, and the stock market\n",
    "- Top Ten most frequent words:\n",
    "    \"said, mr, would, us, also, people, new, one, year, could, last, first\"\n",
    "- Least Frequent words: \n",
    "    \"aeroplane, stewardess, centfirst, inferno, disloyalty, tryin, topper, masscre, concurrent, m3uunknown\"\n",
    "- Best number of topics for the mdoel is 8 \n",
    "    \n"
   ]
  }
 ],
 "metadata": {
  "kernelspec": {
   "display_name": "Python 3 (ipykernel)",
   "language": "python",
   "name": "python3"
  },
  "language_info": {
   "codemirror_mode": {
    "name": "ipython",
    "version": 3
   },
   "file_extension": ".py",
   "mimetype": "text/x-python",
   "name": "python",
   "nbconvert_exporter": "python",
   "pygments_lexer": "ipython3",
   "version": "3.8.8"
  }
 },
 "nbformat": 4,
 "nbformat_minor": 5
}
